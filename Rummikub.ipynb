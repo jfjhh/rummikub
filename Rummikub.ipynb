{
 "cells": [
  {
   "cell_type": "markdown",
   "metadata": {},
   "source": [
    "# Rummikub"
   ]
  },
  {
   "cell_type": "code",
   "execution_count": 1,
   "metadata": {},
   "outputs": [],
   "source": [
    "import numpy as np\n",
    "import random\n",
    "from numpy import random as rm\n",
    "from scipy import linalg\n",
    "from matplotlib import pyplot as plt\n",
    "import networkx as nx\n",
    "from networkx.algorithms.isomorphism import GraphMatcher as GM\n",
    "import itertools as it\n",
    "import functools as ft\n",
    "import operator as op"
   ]
  },
  {
   "cell_type": "code",
   "execution_count": 2,
   "metadata": {},
   "outputs": [],
   "source": [
    "def powerassociate(op):\n",
    "    def f(xs):\n",
    "        l = len(xs)\n",
    "        if l > 2:\n",
    "            return op(f(xs[::2]), f(xs[1::2]))\n",
    "        elif l == 2:\n",
    "            return op(*xs)\n",
    "        else:\n",
    "            return xs[0]\n",
    "    return f"
   ]
  },
  {
   "cell_type": "markdown",
   "metadata": {},
   "source": [
    "## Tile setup"
   ]
  },
  {
   "cell_type": "markdown",
   "metadata": {},
   "source": [
    "All tiles."
   ]
  },
  {
   "cell_type": "code",
   "execution_count": 3,
   "metadata": {},
   "outputs": [],
   "source": [
    "tilenumbers = range(13)\n",
    "tilecolors  = ['#ff0000', '#00ff00', '#0000ff', '#ff00ff']\n",
    "edgecolors  = ['#00000088', '#00000088']"
   ]
  },
  {
   "cell_type": "markdown",
   "metadata": {},
   "source": [
    "Rules for different kinds of runs."
   ]
  },
  {
   "cell_type": "code",
   "execution_count": 4,
   "metadata": {},
   "outputs": [],
   "source": [
    "edgetypes = range(2)\n",
    "def tilegraph(tiles):\n",
    "    G = nx.MultiGraph()\n",
    "    for a, b in it.combinations(tiles, 2):\n",
    "        dn, dc = np.subtract(a, b)\n",
    "        if abs(dn) == 1 and dc == 0:\n",
    "            G.add_edge(*((a,b) if dn < 0 else (b,a)), type=0)\n",
    "        if dn == 0:\n",
    "            G.add_edge(*((a,b) if dc < 0 else (b,a)), type=1)\n",
    "    return G\n",
    "\n",
    "def edgetype(t, edges, same=True):\n",
    "    return [(a, b, k) for a, b, k, et in edges if same ^ et != t]\n",
    "def graphedgetype(t, G, same=True):\n",
    "    return edgetype(t, G.edges(data='type', keys=True), same)\n",
    "def graphtypes(G, edgetypes):\n",
    "    return [G.edge_subgraph(graphedgetype(t, G)) for t in edgetypes]\n",
    "\n",
    "def validrun(G, t):\n",
    "    if t == 0: # A path of at least three numbers (same color)\n",
    "        return GM(G, nx.path_graph(3)).subgraph_is_isomorphic()\n",
    "    elif t == 1: # A collection of at least three colors (same number)\n",
    "        return GM(G, nx.complete_graph(3)).subgraph_is_isomorphic()\n",
    "    else: # TODO: Jokers\n",
    "        return False"
   ]
  },
  {
   "cell_type": "markdown",
   "metadata": {},
   "source": [
    "A graph is valid if all its components for each edge type are valid, and if the edge types form a partition of the whole graph.\n",
    "\n",
    "If the symmetric difference $\\ominus_n S_n = \\cup_n S_n$, then the $S_n$ form a partition."
   ]
  },
  {
   "cell_type": "code",
   "execution_count": 5,
   "metadata": {},
   "outputs": [],
   "source": [
    "def validtiles(G):\n",
    "    Gtypes = graphtypes(G, edgetypes)\n",
    "    okruns = all(validrun(Gtype.subgraph(c), t)\n",
    "                 for t, Gtype in enumerate(Gtypes)\n",
    "                 for c in nx.connected_components(Gtype))\n",
    "    ispartition = set(G) == powerassociate(lambda x, y: x ^ y)([set(Gtype) for Gtype in Gtypes])\n",
    "    return okruns and ispartition"
   ]
  },
  {
   "cell_type": "markdown",
   "metadata": {},
   "source": [
    "Drawing tiles."
   ]
  },
  {
   "cell_type": "code",
   "execution_count": 6,
   "metadata": {},
   "outputs": [],
   "source": [
    "def tilelayout(G):\n",
    "    return {(n, c): np.array([-1 + 2*(n+1) / (len(tilenumbers)+1), -1 + 2*(c+1) / (len(tilecolors)+1)]) for n, c in G}\n",
    "\n",
    "def drawtiles(G):\n",
    "    return nx.draw(G, pos=tilelayout(G),\n",
    "                   labels={x: x[0] for x in G},\n",
    "                   node_color=[tilecolors[x[1]] for x in G],\n",
    "                   node_shape='s', # so^>v<dph8\n",
    "                   edge_color=[edgecolors[t] for _, _, t in G.edges(data='type')],\n",
    "                   font_family='serif', font_color='#ffffff')"
   ]
  },
  {
   "cell_type": "markdown",
   "metadata": {},
   "source": [
    "## A testing set of tiles"
   ]
  },
  {
   "cell_type": "code",
   "execution_count": 7,
   "metadata": {},
   "outputs": [
    {
     "data": {
      "image/png": "[encoded data removed]",
      "text/plain": [
       "<Figure size 432x288 with 1 Axes>"
      ]
     },
     "metadata": {},
     "output_type": "display_data"
    }
   ],
   "source": [
    "# tiles = random.sample([e for e in it.product(range(len(tilenumbers)), range(len(tilecolors)))] * 2, 35)\n",
    "# tiles = [(n, 2) for n in range(4)]\n",
    "tiles = [(0, 0), (1, 0), (2, 0), (3, 0),\n",
    "         (0, 1), (1, 1), (2, 1), (3, 1),\n",
    "         (3, 2), (4, 2), (5, 2), (6, 2), (7, 2), (8, 2),\n",
    "         (9, 1), (9, 2), (9, 3),\n",
    "         (2, 3), (3, 3), (4, 3)\n",
    "        ]\n",
    "G = tilegraph(tiles)\n",
    "drawtiles(G)"
   ]
  },
  {
   "cell_type": "markdown",
   "metadata": {},
   "source": [
    "## Finding all configurations of a partable graph\n",
    "A *partable* graph is a graph where all nodes can mutually parts of valid runs."
   ]
  },
  {
   "cell_type": "markdown",
   "metadata": {},
   "source": [
    "Remove edges that cannot be used in runs."
   ]
  },
  {
   "cell_type": "code",
   "execution_count": 8,
   "metadata": {},
   "outputs": [
    {
     "data": {
      "image/png": "[encoded data removed]",
      "text/plain": [
       "<Figure size 432x288 with 1 Axes>"
      ]
     },
     "metadata": {},
     "output_type": "display_data"
    }
   ],
   "source": [
    "def pruneedges(G):\n",
    "    for t, Gtype in enumerate(graphtypes(G, edgetypes)):\n",
    "        for c in nx.connected_components(Gtype.to_undirected()):\n",
    "            s = Gtype.subgraph(c).copy()\n",
    "            if not validrun(s, t):\n",
    "                G.remove_edges_from(s.edges)\n",
    "pruneedges(G)\n",
    "drawtiles(G)"
   ]
  },
  {
   "cell_type": "markdown",
   "metadata": {},
   "source": [
    "Find edges connected to nodes of multiple edge types (nodes that are not yet partitioned)."
   ]
  },
  {
   "cell_type": "code",
   "execution_count": 9,
   "metadata": {},
   "outputs": [],
   "source": [
    "mixed = set.intersection(*map(set, graphtypes(G, edgetypes)))\n",
    "medgesels = []\n",
    "for m in mixed:\n",
    "    medges = G.edges(m, keys=True, data='type')\n",
    "    medgesels.append([edgetype(t, medges, same=False) for t in set(map(lambda e: e[3], medges))])"
   ]
  },
  {
   "cell_type": "markdown",
   "metadata": {},
   "source": [
    "Try all partitionings by selecting an edge type and removing the rest for each mixed node."
   ]
  },
  {
   "cell_type": "markdown",
   "metadata": {},
   "source": [
    "Removal order matters! Consider a node $J$ of degree $d_J$ connected like a star to other star-like nodes of degree $d_S$. Choosing $J$ first then the others gives\n",
    "$$\n",
    "G_J(d_J) = d_J + (d_J - 1)(d_S - 1)\n",
    "$$\n",
    "graphs, while choosing each of the spokes first and then $J$ last gives\n",
    "$$\n",
    "G_S(d_J)\n",
    "= (d_S - 1)G_S(d_J - 1) + (d_J - 1)(d_S - 1)\n",
    "= (d_S - 1)(G_S(d_J - 1) + d_J - 1)\n",
    "$$\n",
    "graphs, which is *many* more."
   ]
  },
  {
   "cell_type": "code",
   "execution_count": 10,
   "metadata": {},
   "outputs": [],
   "source": [
    "newGs = []\n",
    "for p in it.product(*medgesels):\n",
    "    newG = G.copy()\n",
    "    newG.remove_edges_from(it.chain(*p))\n",
    "    newGs.append(newG)"
   ]
  },
  {
   "cell_type": "code",
   "execution_count": 11,
   "metadata": {},
   "outputs": [],
   "source": [
    "validGs = list(filter(validtiles, newGs))"
   ]
  },
  {
   "cell_type": "code",
   "execution_count": 12,
   "metadata": {},
   "outputs": [
    {
     "data": {
      "image/png": "[encoded data removed]",
      "text/plain": [
       "<Figure size 432x288 with 1 Axes>"
      ]
     },
     "metadata": {},
     "output_type": "display_data"
    }
   ],
   "source": [
    "drawtiles(validGs[1])"
   ]
  },
  {
   "cell_type": "code",
   "execution_count": 13,
   "metadata": {},
   "outputs": [
    {
     "data": {
      "image/png": "[encoded data removed]",
      "text/plain": [
       "<Figure size 432x288 with 2 Axes>"
      ]
     },
     "metadata": {},
     "output_type": "display_data"
    }
   ],
   "source": [
    "gridsize = np.ceil(np.sqrt(len(validGs)))\n",
    "for i, g in enumerate(validGs):\n",
    "    plt.subplot(gridsize, gridsize, i+1)\n",
    "    drawtiles(g)"
   ]
  },
  {
   "cell_type": "markdown",
   "metadata": {},
   "source": [
    "## Maximal runable subgraph\n",
    "TODO: Recursive algorithm on connected components?"
   ]
  }
 ],
 "metadata": {
  "kernelspec": {
   "display_name": "Python 3",
   "language": "python",
   "name": "python3"
  },
  "language_info": {
   "codemirror_mode": {
    "name": "ipython",
    "version": 3
   },
   "file_extension": ".py",
   "mimetype": "text/x-python",
   "name": "python",
   "nbconvert_exporter": "python",
   "pygments_lexer": "ipython3",
   "version": "3.8.2"
  }
 },
 "nbformat": 4,
 "nbformat_minor": 2
}
